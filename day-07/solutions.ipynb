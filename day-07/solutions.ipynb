{
 "cells": [
  {
   "cell_type": "markdown",
   "metadata": {},
   "source": [
    "## Note to Jack\n",
    "I'm a physicist, not a CS-trained person, be easy on me today =)"
   ]
  },
  {
   "cell_type": "code",
   "execution_count": null,
   "metadata": {},
   "outputs": [],
   "source": [
    "import pytest\n",
    "import ipytest\n",
    "\n",
    "ipytest.autoconfig()"
   ]
  },
  {
   "cell_type": "markdown",
   "metadata": {},
   "source": [
    "## Functions"
   ]
  },
  {
   "cell_type": "code",
   "execution_count": null,
   "metadata": {},
   "outputs": [],
   "source": [
    "def parse_session(session):\n",
    "\n",
    "    tree = {'/':{\n",
    "        'files': {}\n",
    "        }\n",
    "    }\n",
    "    pwd = ['']\n",
    "    dir_list = False\n",
    "\n",
    "    for line in session:\n",
    "        line = line.split()\n",
    "        \n",
    "        # Commands\n",
    "        if line[0] == '$':\n",
    "            dir_list = False \n",
    "            if line[1] == 'cd':\n",
    "\n",
    "                # temp\n",
    "                new_dir = pwd.copy()\n",
    "                new_dir.append(line[2])\n",
    "\n",
    "                # Special root case\n",
    "                if line[2] == '/':\n",
    "                    pwd = ['']\n",
    "                # Open parent\n",
    "                elif line[2] == '..':\n",
    "                    pwd.pop()\n",
    "                # Directory already added to tree\n",
    "                elif '/'.join(new_dir) in tree:\n",
    "                    # Open dir\n",
    "                    pwd = new_dir\n",
    "                # Add directory to tree\n",
    "                else:\n",
    "                    # Create dir\n",
    "                    tree['/'.join(new_dir)] = {\n",
    "                        'files': {}\n",
    "                    }\n",
    "                    # Now open it\n",
    "                    pwd = new_dir\n",
    "        # Useless command (nothing to do here)\n",
    "        elif line[0] == 'ls': \n",
    "            pass\n",
    "        elif line[0] == 'dir':\n",
    "            # temp\n",
    "            new_dir = pwd.copy()\n",
    "            new_dir.append(line[1])\n",
    "            \n",
    "            # Create dir but don't open it\n",
    "            if '/'.join(new_dir) not in tree:\n",
    "                tree['/'.join(new_dir)] = {\n",
    "                    'files': {}\n",
    "                }\n",
    "        # It's a file! Fill in the info\n",
    "        else:\n",
    "            # temp\n",
    "            if pwd == ['']:\n",
    "                path = '/'\n",
    "            else:\n",
    "                tmp_dir = pwd.copy()\n",
    "                path = '/'.join(tmp_dir)\n",
    "            tree[path]['files'][line[1]] = line[0]\n",
    "            \n",
    "    return tree\n",
    "\n",
    "def parse_tree_size(tree):\n",
    "    size = 0\n",
    "    cutoff = 100000\n",
    "    for dir in tree:\n",
    "        dir_size = 0\n",
    "        for file in tree[dir]['files']:\n",
    "            dir_size += int(tree[dir]['files'][file])\n",
    "\n",
    "        # Repeat for subdirectories\n",
    "        for subdir in tree:\n",
    "            if subdir == dir:\n",
    "                pass\n",
    "            # Is an actual subdirectory\n",
    "            elif subdir.startswith(dir):\n",
    "                for file in tree[subdir]['files']:\n",
    "                    dir_size += int(tree[subdir]['files'][file])\n",
    "\n",
    "        if dir_size <= cutoff:\n",
    "            size+=dir_size\n",
    "        \n",
    "    return size\n",
    "\n",
    "def find_dir_min_usage(tree):\n",
    "    for dir in tree:\n",
    "        dir_size = 0\n",
    "        for file in tree[dir]['files']:\n",
    "            dir_size += int(tree[dir]['files'][file])\n",
    "\n",
    "        # Repeat for subdirectories\n",
    "        for subdir in tree:\n",
    "            if subdir == dir:\n",
    "                pass\n",
    "            # Is an actual subdirectory\n",
    "            elif subdir.startswith(dir):\n",
    "                for file in tree[subdir]['files']:\n",
    "                    dir_size += int(tree[subdir]['files'][file])\n",
    "\n",
    "        tree[dir]['du'] = dir_size\n",
    "\n",
    "    system_size = 70000000\n",
    "    system_usage = system_size-tree['/']['du']  \n",
    "    free_space_needed = 30000000\n",
    "    min_cutoff = free_space_needed - system_usage\n",
    "    dir_name = ''\n",
    "    size = 0\n",
    "    for dir in tree:\n",
    "        if tree[dir]['du']>min_cutoff:\n",
    "            if size == 0 or tree[dir]['du']<size:\n",
    "                dir_name = dir\n",
    "                size = tree[dir]['du']  \n",
    "    return size, dir_name"
   ]
  },
  {
   "cell_type": "markdown",
   "metadata": {},
   "source": [
    "## Run tests"
   ]
  },
  {
   "cell_type": "code",
   "execution_count": null,
   "metadata": {},
   "outputs": [],
   "source": [
    "# define the tests\n",
    "class TestClass:\n",
    "    def setup_method(self):\n",
    "        self.session = open('test_input.txt').read().splitlines()\n",
    "\n",
    "    def test_read_inital_line(self):\n",
    "        assert self.session[0] == '$ cd /'\n",
    "\n",
    "    def test_expected_dirs(self):\n",
    "        tree = parse_session(self.session)\n",
    "\n",
    "        for dir in tree:\n",
    "            assert dir in ['/', '/a', '/a/e', '/d']\n",
    "    def test_expected_files_for_dir(self):\n",
    "        tree = parse_session(self.session)\n",
    "        dir = '/a/e'\n",
    "        \n",
    "        file = 'i'\n",
    "        assert tree[dir]['files'][file] == '584'\n",
    "    \n",
    "    def test_expected_parse_tree_size(self):\n",
    "        tree = parse_session(self.session)\n",
    "        size = parse_tree_size(tree)\n",
    "        assert size == 95437\n",
    "\n",
    "    def test_find_dir_min_usage(self):\n",
    "        tree = parse_session(self.session)\n",
    "        size, dir_name = find_dir_min_usage(tree)\n",
    "        assert size == 24933642\n",
    "        assert dir_name == '/d'\n",
    "\n",
    "ipytest.run()"
   ]
  },
  {
   "cell_type": "markdown",
   "metadata": {},
   "source": [
    "## Part 1"
   ]
  },
  {
   "cell_type": "code",
   "execution_count": null,
   "metadata": {},
   "outputs": [],
   "source": [
    "\n",
    "## Read input\n",
    "session = open('input.txt').read().splitlines()"
   ]
  },
  {
   "cell_type": "code",
   "execution_count": null,
   "metadata": {},
   "outputs": [],
   "source": [
    "# Parse session into a tree\n",
    "tree  = parse_session(session)"
   ]
  },
  {
   "cell_type": "code",
   "execution_count": null,
   "metadata": {},
   "outputs": [],
   "source": [
    "# Parse the tree dir size\n",
    "parse_tree_size(tree)"
   ]
  },
  {
   "cell_type": "markdown",
   "metadata": {},
   "source": [
    "## Part 2"
   ]
  },
  {
   "cell_type": "code",
   "execution_count": null,
   "metadata": {},
   "outputs": [],
   "source": [
    "size, dir_name = find_dir_min_usage(tree)\n",
    "print(size, dir_name)"
   ]
  }
 ],
 "metadata": {
  "kernelspec": {
   "display_name": "Python 3.8.8 ('base')",
   "language": "python",
   "name": "python3"
  },
  "language_info": {
   "codemirror_mode": {
    "name": "ipython",
    "version": 3
   },
   "file_extension": ".py",
   "mimetype": "text/x-python",
   "name": "python",
   "nbconvert_exporter": "python",
   "pygments_lexer": "ipython3",
   "version": "3.8.8"
  },
  "orig_nbformat": 4,
  "vscode": {
   "interpreter": {
    "hash": "7b6a1e6c18d33edc8789944742c8a86446c3dbacb192990ec4f19dd1ca3f62b7"
   }
  }
 },
 "nbformat": 4,
 "nbformat_minor": 2
}
