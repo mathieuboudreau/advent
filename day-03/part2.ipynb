{
 "cells": [
  {
   "cell_type": "code",
   "execution_count": null,
   "metadata": {},
   "outputs": [],
   "source": [
    "## Imports\n",
    "import os\n",
    "import numpy as np"
   ]
  },
  {
   "cell_type": "code",
   "execution_count": null,
   "metadata": {},
   "outputs": [],
   "source": [
    "## Read input\n",
    "rucksacks = open('input.txt').read().splitlines()"
   ]
  },
  {
   "cell_type": "code",
   "execution_count": null,
   "metadata": {},
   "outputs": [],
   "source": [
    "# Definitions\n",
    "\n",
    "def get_value(letter):\n",
    "    value = ord(letter.lower()) - 96 # lower case values of the alaphabet start at 97 with ord() and increase by 1\n",
    "    if letter.isupper():\n",
    "        value = value + 26 # from the problem definition: a-z = 1-26, A-Z = 27-52\n",
    "    \n",
    "    return value"
   ]
  },
  {
   "cell_type": "code",
   "execution_count": null,
   "metadata": {},
   "outputs": [],
   "source": [
    "## Calculate\n",
    "score = 0\n",
    "number_of_groups = int(len(rucksacks)/3)\n",
    "\n",
    "for num_group in range(number_of_groups):\n",
    "    first_elf = rucksacks[num_group*3]\n",
    "    second_elf = rucksacks[num_group*3+1]\n",
    "    third_elf = rucksacks[num_group*3+2]\n",
    "\n",
    "    shared_item = set(first_elf) & set(second_elf) & set(third_elf) \n",
    "\n",
    "    score = score + get_value(list(shared_item)[0])\n"
   ]
  },
  {
   "cell_type": "code",
   "execution_count": null,
   "metadata": {},
   "outputs": [],
   "source": [
    "## Print solution\n",
    "\n",
    "print(score)"
   ]
  }
 ],
 "metadata": {
  "kernelspec": {
   "display_name": "Python 3.8.8 ('base')",
   "language": "python",
   "name": "python3"
  },
  "language_info": {
   "codemirror_mode": {
    "name": "ipython",
    "version": 3
   },
   "file_extension": ".py",
   "mimetype": "text/x-python",
   "name": "python",
   "nbconvert_exporter": "python",
   "pygments_lexer": "ipython3",
   "version": "3.8.8"
  },
  "orig_nbformat": 4,
  "vscode": {
   "interpreter": {
    "hash": "7b6a1e6c18d33edc8789944742c8a86446c3dbacb192990ec4f19dd1ca3f62b7"
   }
  }
 },
 "nbformat": 4,
 "nbformat_minor": 2
}
