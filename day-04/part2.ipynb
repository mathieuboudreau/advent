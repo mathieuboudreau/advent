{
 "cells": [
  {
   "cell_type": "code",
   "execution_count": null,
   "metadata": {},
   "outputs": [],
   "source": [
    "## Read input\n",
    "pairs = open('input.txt').read().splitlines()"
   ]
  },
  {
   "cell_type": "code",
   "execution_count": null,
   "metadata": {},
   "outputs": [],
   "source": [
    "# Definitions\n",
    "\n",
    "def overlaps(set_1,set_2):\n",
    "    min_1 = set_1[0]\n",
    "    max_1 = set_1[1]\n",
    "    min_2 = set_2[0]\n",
    "    max_2 = set_2[1]\n",
    "\n",
    "    # Check if boundaries of set 1 are within set 2\n",
    "    if min_1 in range(min_2, max_2+1) or max_1 in range(min_2, max_2+1):\n",
    "        return True\n",
    "    # Check if boundaries of set 2 are within set 1\n",
    "    elif min_2 in range(min_1, max_1+1) or max_2 in range(min_1, max_1+1):\n",
    "        return True\n",
    "    else:\n",
    "        return False\n"
   ]
  },
  {
   "cell_type": "code",
   "execution_count": null,
   "metadata": {},
   "outputs": [],
   "source": [
    "## Calculate\n",
    "total = 0\n",
    "\n",
    "for pair in pairs:\n",
    "    elves = pair.split(',')\n",
    "    elf1_range = list(map(int, elves[0].split('-')))\n",
    "    elf2_range = list(map(int, elves[1].split('-')))\n",
    "\n",
    "    if overlaps(elf1_range, elf2_range):\n",
    "        total += 1\n"
   ]
  },
  {
   "cell_type": "code",
   "execution_count": null,
   "metadata": {},
   "outputs": [],
   "source": [
    "## Print solution\n",
    "\n",
    "print(total)"
   ]
  }
 ],
 "metadata": {
  "kernelspec": {
   "display_name": "Python 3.8.8 ('base')",
   "language": "python",
   "name": "python3"
  },
  "language_info": {
   "codemirror_mode": {
    "name": "ipython",
    "version": 3
   },
   "file_extension": ".py",
   "mimetype": "text/x-python",
   "name": "python",
   "nbconvert_exporter": "python",
   "pygments_lexer": "ipython3",
   "version": "3.8.8"
  },
  "orig_nbformat": 4,
  "vscode": {
   "interpreter": {
    "hash": "7b6a1e6c18d33edc8789944742c8a86446c3dbacb192990ec4f19dd1ca3f62b7"
   }
  }
 },
 "nbformat": 4,
 "nbformat_minor": 2
}
