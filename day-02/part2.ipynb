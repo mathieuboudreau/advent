{
 "cells": [
  {
   "cell_type": "code",
   "execution_count": null,
   "metadata": {},
   "outputs": [],
   "source": [
    "## Imports\n",
    "import os"
   ]
  },
  {
   "cell_type": "code",
   "execution_count": null,
   "metadata": {},
   "outputs": [],
   "source": [
    "## Read input\n",
    "lines = open('input.txt').read().splitlines()"
   ]
  },
  {
   "cell_type": "code",
   "execution_count": null,
   "metadata": {},
   "outputs": [],
   "source": [
    "convert_readable = {\n",
    "    'A': 'rock',\n",
    "    'B': 'paper',\n",
    "    'C': 'scissors'\n",
    "}\n",
    "\n",
    "get_result = {\n",
    "    'X': ('lose', 0),\n",
    "    'Y': ('draw', 3),\n",
    "    'Z': ('win', 6),\n",
    "}\n",
    "\n",
    "my_pick_score={\n",
    "    'rock': 1,\n",
    "    'paper': 2,\n",
    "    'scissors': 3\n",
    "}\n",
    "\n",
    "winning_move ={\n",
    "    'rock': 'paper',\n",
    "    'paper': 'scissors',\n",
    "    'scissors': 'rock'\n",
    "}\n",
    "\n",
    "losing_move ={\n",
    "    'rock': 'scissors',\n",
    "    'paper': 'rock',\n",
    "    'scissors': 'paper'\n",
    "}\n",
    "\n",
    "def find_my_pick_score(opponent, result):\n",
    "    if result == 'draw':\n",
    "        return my_pick_score[opponent]\n",
    "    else:\n",
    "        if result == 'win':\n",
    "            return my_pick_score[winning_move[opponent]]\n",
    "        else:\n",
    "            return my_pick_score[losing_move[opponent]]\n"
   ]
  },
  {
   "cell_type": "code",
   "execution_count": null,
   "metadata": {},
   "outputs": [],
   "source": [
    "## Calculate\n",
    "score = 0\n",
    "for line in lines:\n",
    "    opponent, result = line.split()\n",
    "\n",
    "    opponent = convert_readable[opponent]\n",
    "    result, result_score = get_result[result]\n",
    "\n",
    "    score = score + find_my_pick_score(opponent, result) + result_score\n"
   ]
  },
  {
   "cell_type": "code",
   "execution_count": null,
   "metadata": {},
   "outputs": [],
   "source": [
    "## Print solution\n",
    "\n",
    "print(score)"
   ]
  }
 ],
 "metadata": {
  "kernelspec": {
   "display_name": "Python 3.8.8 ('base')",
   "language": "python",
   "name": "python3"
  },
  "language_info": {
   "codemirror_mode": {
    "name": "ipython",
    "version": 3
   },
   "file_extension": ".py",
   "mimetype": "text/x-python",
   "name": "python",
   "nbconvert_exporter": "python",
   "pygments_lexer": "ipython3",
   "version": "3.8.8"
  },
  "orig_nbformat": 4,
  "vscode": {
   "interpreter": {
    "hash": "7b6a1e6c18d33edc8789944742c8a86446c3dbacb192990ec4f19dd1ca3f62b7"
   }
  }
 },
 "nbformat": 4,
 "nbformat_minor": 2
}
