{
 "cells": [
  {
   "cell_type": "code",
   "execution_count": null,
   "metadata": {},
   "outputs": [],
   "source": [
    "## Imports\n",
    "import os"
   ]
  },
  {
   "cell_type": "code",
   "execution_count": null,
   "metadata": {},
   "outputs": [],
   "source": [
    "## Read input\n",
    "lines = open('input.txt').read().splitlines()"
   ]
  },
  {
   "cell_type": "code",
   "execution_count": null,
   "metadata": {},
   "outputs": [],
   "source": [
    "def convert_readable(pick):\n",
    "    if pick == 'A':\n",
    "        return 'rock'\n",
    "    if pick == 'B':\n",
    "        return 'paper'\n",
    "    if pick == 'C':\n",
    "        return 'scissors'\n",
    "\n",
    "def my_pick_score(me):\n",
    "    if me == 'rock':\n",
    "        return 1\n",
    "    elif me == 'paper':\n",
    "        return 2\n",
    "    elif me == 'scissors':\n",
    "        return 3\n",
    "\n",
    "def get_result(me):\n",
    "    if me == 'X':\n",
    "        return 'lose', 0\n",
    "    elif me == 'Y':\n",
    "        return 'draw', 3\n",
    "    elif me == 'Z':\n",
    "        return 'win', 6\n",
    "\n",
    "def winning_move(pick):\n",
    "    if pick == 'rock':\n",
    "        return 'paper'\n",
    "    elif pick == 'paper':\n",
    "        return 'scissors'\n",
    "    elif pick == 'scissors':\n",
    "        return 'rock'\n",
    "\n",
    "def losing_move(pick):\n",
    "    if pick == 'rock':\n",
    "        return 'scissors'\n",
    "    elif pick == 'paper':\n",
    "        return 'rock'\n",
    "    elif pick == 'scissors':\n",
    "        return 'paper'\n",
    "\n",
    "def find_my_pick_score(opponent, result):\n",
    "    if result == 'draw':\n",
    "        return my_pick_score(opponent)\n",
    "    else:\n",
    "        if result == 'win':\n",
    "            return my_pick_score(winning_move(opponent))\n",
    "        else:\n",
    "            return my_pick_score(losing_move(opponent))\n"
   ]
  },
  {
   "cell_type": "code",
   "execution_count": null,
   "metadata": {},
   "outputs": [],
   "source": [
    "## Calculate\n",
    "score = 0\n",
    "for line in lines:\n",
    "    opponent, result = line.split()\n",
    "\n",
    "    opponent = convert_readable(opponent)\n",
    "    result, result_score = get_result(result)\n",
    "\n",
    "    score = score + find_my_pick_score(opponent, result) + result_score\n"
   ]
  },
  {
   "cell_type": "code",
   "execution_count": null,
   "metadata": {},
   "outputs": [],
   "source": [
    "## Print solution\n",
    "\n",
    "print(score)"
   ]
  }
 ],
 "metadata": {
  "kernelspec": {
   "display_name": "Python 3.8.8 ('base')",
   "language": "python",
   "name": "python3"
  },
  "language_info": {
   "codemirror_mode": {
    "name": "ipython",
    "version": 3
   },
   "file_extension": ".py",
   "mimetype": "text/x-python",
   "name": "python",
   "nbconvert_exporter": "python",
   "pygments_lexer": "ipython3",
   "version": "3.8.8"
  },
  "orig_nbformat": 4,
  "vscode": {
   "interpreter": {
    "hash": "7b6a1e6c18d33edc8789944742c8a86446c3dbacb192990ec4f19dd1ca3f62b7"
   }
  }
 },
 "nbformat": 4,
 "nbformat_minor": 2
}
