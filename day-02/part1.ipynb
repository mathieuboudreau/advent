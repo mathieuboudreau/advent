{
 "cells": [
  {
   "cell_type": "code",
   "execution_count": null,
   "metadata": {},
   "outputs": [],
   "source": [
    "## Imports\n",
    "import os"
   ]
  },
  {
   "cell_type": "code",
   "execution_count": null,
   "metadata": {},
   "outputs": [],
   "source": [
    "## Read input\n",
    "lines = open('input.txt').read().splitlines()"
   ]
  },
  {
   "cell_type": "code",
   "execution_count": null,
   "metadata": {},
   "outputs": [],
   "source": [
    "def convert_readable(pick):\n",
    "    if pick == 'A' or pick == 'X':\n",
    "        return 'rock'\n",
    "    if pick == 'B' or pick == 'Y':\n",
    "        return 'paper'\n",
    "    if pick == 'C' or pick == 'Z':\n",
    "        return 'scissors'\n",
    "\n",
    "def my_pick_score(me):\n",
    "    if me == 'rock':\n",
    "        return 1\n",
    "    elif me == 'paper':\n",
    "        return 2\n",
    "    elif me == 'scissors':\n",
    "        return 3\n",
    "\n",
    "def winning_move(pick):\n",
    "    if pick == 'rock':\n",
    "        return 'paper'\n",
    "    elif pick == 'paper':\n",
    "        return 'scissors'\n",
    "    elif pick == 'scissors':\n",
    "        return 'rock'\n",
    "\n",
    "def win_score(opponent, me):\n",
    "    if opponent == me:\n",
    "        return 3\n",
    "    else:\n",
    "        if me == winning_move(opponent):\n",
    "            return 6\n",
    "        else:\n",
    "            return 0"
   ]
  },
  {
   "cell_type": "code",
   "execution_count": null,
   "metadata": {},
   "outputs": [],
   "source": [
    "## Calculate\n",
    "score = 0\n",
    "for line in lines:\n",
    "    opponent, me = line.split()\n",
    "\n",
    "    opponent = convert_readable(opponent)\n",
    "    me = convert_readable(me)\n",
    "\n",
    "    score = score + my_pick_score(me) + win_score(opponent, me)\n"
   ]
  },
  {
   "cell_type": "code",
   "execution_count": null,
   "metadata": {},
   "outputs": [],
   "source": [
    "## Print solution\n",
    "\n",
    "print(score)"
   ]
  }
 ],
 "metadata": {
  "kernelspec": {
   "display_name": "Python 3.8.8 ('base')",
   "language": "python",
   "name": "python3"
  },
  "language_info": {
   "codemirror_mode": {
    "name": "ipython",
    "version": 3
   },
   "file_extension": ".py",
   "mimetype": "text/x-python",
   "name": "python",
   "nbconvert_exporter": "python",
   "pygments_lexer": "ipython3",
   "version": "3.8.8"
  },
  "orig_nbformat": 4,
  "vscode": {
   "interpreter": {
    "hash": "7b6a1e6c18d33edc8789944742c8a86446c3dbacb192990ec4f19dd1ca3f62b7"
   }
  }
 },
 "nbformat": 4,
 "nbformat_minor": 2
}
