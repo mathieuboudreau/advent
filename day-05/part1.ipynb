{
 "cells": [
  {
   "cell_type": "code",
   "execution_count": null,
   "metadata": {},
   "outputs": [],
   "source": [
    "## Read input\n",
    "instructions = open('input_simplified.txt').read().splitlines()"
   ]
  },
  {
   "cell_type": "code",
   "execution_count": null,
   "metadata": {},
   "outputs": [],
   "source": [
    "# Initial conditions\n",
    "\n",
    "#    [P]                 [C] [C]    \n",
    "#    [W]         [B]     [G] [V] [V]\n",
    "#    [V]         [T] [Z] [J] [T] [S]\n",
    "#    [D] [L]     [Q] [F] [Z] [W] [R]\n",
    "#    [C] [N] [R] [H] [L] [Q] [F] [G]\n",
    "#[F] [M] [Z] [H] [G] [W] [L] [R] [H]\n",
    "#[R] [H] [M] [C] [P] [C] [V] [N] [W]\n",
    "#[W] [T] [P] [J] [C] [G] [W] [P] [J]\n",
    "# 1   2   3   4   5   6   7   8   9 \n",
    "\n",
    "stack = {\n",
    "    1: 'WRF',\n",
    "    2: 'THMCDVWP',\n",
    "    3: 'PMZNL',\n",
    "    4: 'JCHR',\n",
    "    5: 'CPGHQTB',\n",
    "    6: 'GCWLFZ',\n",
    "    7: 'WVLQZJGC',\n",
    "    8: 'PNRFWTVC',\n",
    "    9: 'JWHGRSV'\n",
    "}"
   ]
  },
  {
   "cell_type": "code",
   "execution_count": null,
   "metadata": {},
   "outputs": [],
   "source": [
    "## Calculate\n",
    "\n",
    "for instruction in instructions:\n",
    "    inst = instruction.split()\n",
    "    qty = int(inst[1])\n",
    "    src = int(inst[3])\n",
    "    dst = int(inst[5])\n",
    "\n",
    "    boxes = stack[src][-qty:]\n",
    "    stack[src] = stack[src][:-qty]\n",
    "    stack[dst] += boxes[::-1] \n"
   ]
  },
  {
   "cell_type": "code",
   "execution_count": null,
   "metadata": {},
   "outputs": [],
   "source": [
    "## Print solution\n",
    "top = ''\n",
    "for ind in stack:\n",
    "    top += stack[ind][-1]\n",
    "\n",
    "print(top)"
   ]
  }
 ],
 "metadata": {
  "kernelspec": {
   "display_name": "Python 3.8.8 ('base')",
   "language": "python",
   "name": "python3"
  },
  "language_info": {
   "codemirror_mode": {
    "name": "ipython",
    "version": 3
   },
   "file_extension": ".py",
   "mimetype": "text/x-python",
   "name": "python",
   "nbconvert_exporter": "python",
   "pygments_lexer": "ipython3",
   "version": "3.8.8"
  },
  "orig_nbformat": 4,
  "vscode": {
   "interpreter": {
    "hash": "7b6a1e6c18d33edc8789944742c8a86446c3dbacb192990ec4f19dd1ca3f62b7"
   }
  }
 },
 "nbformat": 4,
 "nbformat_minor": 2
}
